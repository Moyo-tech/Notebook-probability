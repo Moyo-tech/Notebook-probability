{
 "cells": [
  {
   "cell_type": "markdown",
   "metadata": {},
   "source": [
    "# Introduction to Probability\n",
    "\n",
    "-----\n",
    "\n",
    "Probability is a concept that is generally familiar to most people. We use probabilities frequently, such as in weather forecasts where the probability of rain might be 60%, or in games of chance where the roll of a die might determine the winner. But what does probability really mean? Or, more importantly, how do we calculate and use probabilities effectively?\n",
    "\n",
    "This notebook explores the concept of probability, including how to calculate probabilities from theoretical expectations and from the distribution of features in a particular data set.Before we get started, however, we first perform our standard Python imports.\n",
    "\n",
    "-----"
   ]
  },
  {
   "cell_type": "code",
   "execution_count": 8,
   "metadata": {},
   "outputs": [
    {
     "name": "stderr",
     "output_type": "stream",
     "text": [
      "UsageError: Line magic function `%` not found.\n"
     ]
    }
   ],
   "source": [
    "# Set up Notebook\n",
    "% matplotlib inline\n",
    "\n",
    "# Standard imports\n",
    "import numpy as np\n",
    "import pandas as pd\n",
    "import matplotlib.pyplot as plt\n",
    "import seaborn as sns\n",
    "\n",
    "# We do this to ignore several specific Pandas warnings\n",
    "import warnings\n",
    "warnings.filterwarnings(\"ignore\")\n",
    "\n",
    "sns.set(style=\"white\")"
   ]
  },
  {
   "cell_type": "markdown",
   "metadata": {},
   "source": [
    "## Probability\n",
    "\n",
    "One standard approach to estimating probability is to define the probability of an event by the _frequency_ of its occurrence. Thus, for example, we expect that the probability a fair coin comes up heads is 0.5. Formally, this is computed as the number of successes divided by the number of attempts. In general, in the absence of outside information, we follow the [principle of indifference][wpi] and choose uniform probabilities for potential events. Thus we expect:\n",
    "\n",
    "Coin: $P(H) = \\frac{1}{2}$  \n",
    "Dice: $P(1) = \\frac{1}{6}$  \n",
    "Card: $P(3) = \\frac{1}{13}$  \n",
    "\n",
    "We can demonstrate several of these actions by performing simulations.\n",
    "\n",
    "### Flipping Coin\n",
    "\n",
    "First, we will demonstrate computing a probability from a sequence of events by simulating a coin flip. In the following code cell, we assume a fixed probability of _flipping heads_, and simulate flipping a heads ($H$) or tails ($T$) by using the [`choice`][npc] function in the NumPy module to randomly select one of these two outcomes. We display the simulated flips, accumulate the number of heads, and display the ratio of heads to total flips as a probability derived from the frequency of occurrences.\n",
    "\n",
    "-----"
   ]
  },
  {
   "cell_type": "code",
   "execution_count": 9,
   "metadata": {},
   "outputs": [
    {
     "name": "stdout",
     "output_type": "stream",
     "text": [
      "Flips: H H T T H H T T T H H T H T H H T T T T H T H T H\n",
      "Number of Heads: 12\n",
      "P(H) = 0.48 (Number of Heads/Total Flips)\n"
     ]
    }
   ],
   "source": [
    "import numpy as np\n",
    "# Simulation probability of flipping heads\n",
    "ph = 0.5\n",
    "\n",
    "# Number of coin flips to simulate\n",
    "num_flips = 25\n",
    "\n",
    "# Simulate Coin flips\n",
    "def flip_coin(N, p=0.5):\n",
    "    prob = [p, (1 - p)]\n",
    "    return np.random.choice(['H','T'], size=N, p=prob)\n",
    "\n",
    "# Accumulate flips\n",
    "flips=flip_coin(num_flips, ph)\n",
    "\n",
    "# Count Heads\n",
    "num_heads = np.sum(flips == 'H')\n",
    "\n",
    "# Display results\n",
    "print(\"Flips:\", \" \".join(flips))\n",
    "print(f\"Number of Heads: {num_heads}\")\n",
    "print(f'P(H) = {num_heads/num_flips} (Number of Heads/Total Flips)')"
   ]
  },
  {
   "cell_type": "markdown",
   "metadata": {},
   "source": [
    "-----\n",
    "\n",
    "### Rolling Dice\n",
    "\n",
    "Second, we can provide a more complex example by simulating the rolling of a six-sided dice. In this case, we must randomly select one of six options ($1$, $2$, $3$, $4$, $5$, $6$), which by default we assume all have equal probabilities ($= 1/ 6$). At the end, we accumulate the number of rolls that result in an _ace_ (or $1$), and display the ratio of this sum to the total number of rolls as a probability derived from the frequency of occurrence.\n",
    "\n",
    "-----"
   ]
  },
  {
   "cell_type": "code",
   "execution_count": 10,
   "metadata": {},
   "outputs": [
    {
     "name": "stdout",
     "output_type": "stream",
     "text": [
      "Rolls: 1 3 2 3 5 6 5 4 1 6 2 2 1 2 1 3 4 2 1 5 5 6 3 5 3\n",
      "Number of Ones: 5\n",
      "P(1) = 0.2 (Number of Ones/Total Rolls)\n"
     ]
    }
   ],
   "source": [
    "# Assume equal probability over all states\n",
    "prob_die = 6 * [(1/6)]\n",
    "\n",
    "# Number of dice rolls\n",
    "num_rolls = 25\n",
    "\n",
    "# Simulate a dice roll\n",
    "def roll_die(N, prob = prob_die):\n",
    "    return np.random.choice(['1', '2', '3', '4', '5', '6'], size=N, p=prob)\n",
    "\n",
    "# Accumulate rolls\n",
    "rolls=roll_die(num_rolls)\n",
    "\n",
    "# Accumulate rolls of an 'Ace'\n",
    "num_ones = np.sum(rolls == '1')\n",
    "\n",
    "#Display results\n",
    "print(\"Rolls:\", \" \".join(rolls))\n",
    "print(f\"Number of Ones: {num_ones}\")\n",
    "print(f'P(1) = {num_ones/num_rolls} (Number of Ones/Total Rolls)')"
   ]
  },
  {
   "cell_type": "markdown",
   "metadata": {},
   "source": [
    "### Bernoulli Trial\n",
    "\n",
    "If we conduct an experiment, such as flipping a coin or rolling a die, we can define a specific outcome as a success. For example, if the coin shows a head or we roll an ace (or a **1**), we might consider those successful outcomes. An experiment of this type is known as a [**Bernoulli trial**][wbt]. If the probability of success is denoted by $p$, we have the probability of success as $P(1) = p$, and conversely the probability of failure is $P(0) = (1 - p)$. If we let $x$ be a random variable that is determined by this probability, then $X$ is known as a Bernoulli random variable. In addition, we can obtain the **odds** of a successful outcome as the ratio $p/(1 - p)$.\n",
    "\n",
    "## Binomial Distribution\n",
    "\n",
    "If we extend the experiment to include more than one trial, we have a binomial experiment, which consists of a set number of statistically independent _Bernoulli trials_. Thus, flipping a coin multiple times is a binomial experiment, since each coin flip is independent. In general, a random variable that is determined from $n$ statistically independent Bernoulli trials, where each trial has probability $p$ of success, follows a Binomial distribution $B(n, p)$. In this case, the probability of exactly $r$ successes is given by\n",
    "\n",
    "$$p(r) = {n \\choose r} p^r (1 - p)^{n - r}$$\n",
    "\n",
    "To demonstrate, we can calculate the probability of getting an odd roll of a die. Here the probability of success, $p$ is equal to 0.5, since we have three ways of getting an odd roll and six total options ($p = 3/6 = 1/2$). In addition, we have one trial ($n = 1$), and one success ($r = 1$).\n",
    "\n",
    "$$P(X) = \\frac{1!}{1! 0!}\\left( \\frac{1}{2} \\right)^1 \\left( \\frac{1}{2} \\right)^0 = \\frac{1}{2} $$\n",
    "\n",
    "Or, we can calculate the probability of flipping five heads in ten coin tosses. For this example, the probability of getting heads for a fair coin is just 0.5, $n = 10$, and $r=5$, thus\n",
    "\n",
    "$$P(X) = \\frac{10!}{5! (10 - 5)!}\\left( \\frac{1}{2} \\right)^5 \\left( \\frac{1}{2} \\right)^5 \\approx 0.246 $$\n",
    "\n",
    "This distribution can be applied when\n",
    "- the different trials (i.e., $n$) are statistically independent,\n",
    "- each trial can only end in one of two states, and\n",
    "- the probability of success (and failure) is constant for each trial.\n",
    "\n",
    "As a simple example, in the following code cell, we calculate the probability of flipping different numbers of heads from five _fair_ coins, for which we assume the probability of getting a heads = 0.5.\n",
    "\n",
    "-----\n",
    "\n"
   ]
  },
  {
   "cell_type": "code",
   "execution_count": 13,
   "metadata": {},
   "outputs": [
    {
     "name": "stdout",
     "output_type": "stream",
     "text": [
      "P(0 Heads) =   0.03\n",
      "P(1 Heads) =   0.16\n",
      "P(2 Heads) =   0.31\n",
      "P(3 Heads) =   0.31\n",
      "P(4 Heads) =   0.16\n",
      "P(5 Heads) =   0.03\n"
     ]
    },
    {
     "data": {
      "image/png": "[encoded data removed]",
      "text/plain": [
       "<Figure size 864x432 with 1 Axes>"
      ]
     },
     "metadata": {
      "needs_background": "light"
     },
     "output_type": "display_data"
    }
   ],
   "source": [
    "import matplotlib.pyplot as plt\n",
    "import seaborn as sns\n",
    "# Number of coins\n",
    "n = 5\n",
    "\n",
    "# Simulated probability of heads\n",
    "ph = 0.5\n",
    "\n",
    "from scipy.stats import binom\n",
    "\n",
    "x = np.arange(6)\n",
    "\n",
    "# Create frozen distribution\n",
    "rv = binom(n, ph)\n",
    "pmf = rv.pmf(x)\n",
    "\n",
    "for idx, pr in enumerate(pmf):\n",
    "    print(f'P({idx} Heads) = {pr:6.2f}')\n",
    "\n",
    "# Now plot the binomial distribution for different number of heads in 5 coin flips\n",
    "fig, ax = plt.subplots(figsize=(12, 6))\n",
    "ax.plot(x, binom.pmf(x, n, ph), 'o', color=sns.xkcd_rgb[\"pale red\"], ms=10, label='Binomial PMF')\n",
    "\n",
    "#Plot frozen PMF\n",
    "ax.vlines(x, 0, pmf, colors=sns.xkcd_rgb[\"denim blue\"], lw=2, alpha=0.5, label='Frozen PMF')\n",
    "\n",
    "# Decorate plot\n",
    "ax.set_xlabel('Number of Heads', fontsize=16)\n",
    "ax.set_ylabel(r'Probability of $N$ Heads', fontsize=16)\n",
    "ax.set_title('Binomial Distribution: 5 Coins', fontsize=16)\n",
    "ax.legend(fontsize=16)\n",
    "sns.despine(offset = 5, trim=True)"
   ]
  }
 ],
 "metadata": {
  "interpreter": {
   "hash": "d0f1a46e1b8bb49f6fe66dfa14ba01e1c4ea6e7377c07a6040c9a42d856a631d"
  },
  "kernelspec": {
   "display_name": "Python 3.9.4 64-bit",
   "language": "python",
   "name": "python3"
  },
  "language_info": {
   "codemirror_mode": {
    "name": "ipython",
    "version": 3
   },
   "file_extension": ".py",
   "mimetype": "text/x-python",
   "name": "python",
   "nbconvert_exporter": "python",
   "pygments_lexer": "ipython3",
   "version": "3.9.4"
  },
  "orig_nbformat": 4
 },
 "nbformat": 4,
 "nbformat_minor": 2
}
